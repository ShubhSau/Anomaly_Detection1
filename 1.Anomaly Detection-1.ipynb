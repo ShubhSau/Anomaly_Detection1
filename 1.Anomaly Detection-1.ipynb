{
 "cells": [
  {
   "cell_type": "markdown",
   "id": "6116d93f-2498-4b28-8634-68691eca772b",
   "metadata": {},
   "source": [
    "Q1. What is anomaly detection and what is its purpose?"
   ]
  },
  {
   "cell_type": "markdown",
   "id": "68b60e12-59af-4fcc-b23a-c6075f8c3a5c",
   "metadata": {},
   "source": [
    "Anomaly detection is a data analysis technique used in various fields, such as machine learning, statistics, and cybersecurity, to identify patterns or instances that deviate significantly from the expected or normal behavior of a system or dataset. The primary purpose of anomaly detection is to flag or highlight data points that are unusual, rare, or potentially indicative of errors, fraud, faults, or other noteworthy events. These anomalies are often referred to as outliers.\n",
    "\n",
    "Here are some key aspects and purposes of anomaly detection:\n",
    "\n",
    "1. Identifying Unusual Behavior: Anomaly detection helps in identifying data points or events that do not conform to the expected or normal behavior within a given dataset or system.\n",
    "\n",
    "2. Fault Detection: It is commonly used in industries like manufacturing and maintenance to detect faults or abnormalities in machinery and equipment, which can help prevent breakdowns and improve operational efficiency.\n",
    "\n",
    "3. Fraud Detection: In the context of finance and security, anomaly detection is used to detect fraudulent transactions, unauthorized access, or any suspicious activities that deviate from typical user behavior.\n",
    "\n",
    "4. Quality Control: It is employed in quality control processes to identify defective products or anomalies in manufacturing processes.\n",
    "\n",
    "5. Network Security: Anomaly detection is crucial in cybersecurity for detecting unusual network traffic patterns that may indicate a cyberattack or intrusion attempt.\n",
    "\n",
    "6. **Healthcare**: In healthcare, it can be used to detect anomalies in medical data, such as identifying unusual patient vitals or deviations from normal test results.\n",
    "\n",
    "7. Data Cleaning: Anomaly detection can be part of the data preprocessing step to identify and handle outliers that may affect the accuracy of analytical models."
   ]
  },
  {
   "cell_type": "markdown",
   "id": "25047df0-0183-4280-ad6c-e366ec9a24a7",
   "metadata": {},
   "source": [
    "Q2. What are the key challenges in anomaly detection?"
   ]
  },
  {
   "cell_type": "markdown",
   "id": "39766dea-48b2-4cbb-8c97-80099058bf52",
   "metadata": {},
   "source": [
    "Anomaly detection is a valuable technique, but it comes with several challenges, which can vary depending on the specific application and dataset. Some of the key challenges in anomaly detection include:\n",
    "\n",
    "1. Imbalanced Data: In many real-world scenarios, anomalies are rare compared to normal data points. This class imbalance can make it difficult for traditional machine learning models to identify anomalies effectively.\n",
    "\n",
    "2. Data Quality: Anomaly detection algorithms are sensitive to noisy or inaccurate data. Outliers caused by data errors or measurement noise can lead to false positives.\n",
    "\n",
    "3. False Positives: Striking a balance between detecting true anomalies and minimizing false positives is crucial. Overly sensitive anomaly detectors can generate a high number of false alarms, leading to alert fatigue and reduced trust in the system.\n",
    "\n",
    "4. Anomaly Types: Anomalies can take various forms, such as point anomalies (individual data points are anomalous), contextual anomalies (anomalies depend on the context), and collective anomalies (groups of data points together form an anomaly). Detecting different types of anomalies may require different approaches.\n",
    "\n",
    "5. Unlabeled Data: In many cases, labeled anomaly data may be scarce or unavailable, making it necessary to use unsupervised or semi-supervised anomaly detection techniques.\n",
    "\n",
    "Addressing these challenges often involves a combination of domain expertise, data preprocessing, feature engineering, and the selection of appropriate anomaly detection algorithms. Additionally, ongoing monitoring and adaptation of the anomaly detection system are often necessary to maintain effectiveness in dynamic environments."
   ]
  },
  {
   "cell_type": "markdown",
   "id": "4147b7a0-ac9f-4dea-a997-ad0d462dbd8a",
   "metadata": {},
   "source": [
    "Q3. How does unsupervised anomaly detection differ from supervised anomaly detection?"
   ]
  },
  {
   "cell_type": "markdown",
   "id": "18079673-444a-4e09-a8d2-bc93581e6059",
   "metadata": {},
   "source": [
    "Unsupervised anomaly detection and supervised anomaly detection are two distinct approaches to identifying anomalies in data, and they differ primarily in terms of their learning processes and the availability of labeled data:\n",
    "\n",
    "1. Unsupervised Anomaly Detection:\n",
    "   - No Labeled Data: Unsupervised anomaly detection does not rely on labeled data, meaning it does not require examples of anomalies and normal data for training.\n",
    "   - Learning from Data Distribution: Instead of using labeled data, unsupervised methods focus on learning the underlying distribution of the data. They seek to identify data points that deviate significantly from this learned distribution.\n",
    "   - Clustering or Density Estimation: Common techniques used in unsupervised anomaly detection include clustering methods (e.g., k-means, DBSCAN) or density estimation methods (e.g., Gaussian Mixture Models, kernel density estimation).\n",
    "   \n",
    "2. Supervised Anomaly Detection:\n",
    "   - Labeled Data Required: Supervised anomaly detection relies on labeled data where both normal and anomalous instances are explicitly marked. This labeled dataset is used for training a model.\n",
    "   - Learning from Anomaly Examples: In supervised methods, the model learns from the provided examples of anomalies and normal data, capturing the characteristics that distinguish between the two classes.\n",
    "   - Classification: Supervised anomaly detection often employs classification algorithms, such as decision trees, support vector machines, or deep neural networks, where the goal is to classify new data points as either normal or anomalous based on the learned patterns.\n",
    "   - Evaluation Metrics: Supervised methods can be evaluated using standard classification metrics like accuracy, precision, recall, and F1-score because they make explicit predictions.\n",
    "\n",
    "Key Differences:\n",
    "\n",
    "- Data Requirement: Unsupervised methods do not require labeled data for training, making them suitable when labeled anomalies are scarce or unavailable. Supervised methods require a labeled dataset with both normal and anomalous examples.\n",
    "\n",
    "- Model Interpretability: Unsupervised methods may provide less interpretable results because they focus on data distribution rather than explicitly learned anomaly patterns. Supervised methods offer more interpretability as they capture the characteristics of anomalies.\n",
    "\n",
    "- Generalization: Supervised methods are generally better at generalizing to unseen data that is similar to the training set because they learn from labeled examples. Unsupervised methods may be more prone to false positives and false negatives.\n",
    "\n",
    "- Application: Unsupervised methods are often used when there is limited prior knowledge of anomaly types or when anomalies can take various forms. Supervised methods are used when labeled examples of anomalies are readily available and the goal is to make precise anomaly predictions.\n"
   ]
  },
  {
   "cell_type": "markdown",
   "id": "d97a303a-e820-4caf-b49e-9e4019dd38d9",
   "metadata": {},
   "source": [
    "Q4. What are the main categories of anomaly detection algorithms?"
   ]
  },
  {
   "cell_type": "markdown",
   "id": "124028e7-f795-4037-ac55-fe86d4fb8fa1",
   "metadata": {},
   "source": [
    "Anomaly detection algorithms can be categorized into several main categories based on their underlying techniques and approaches. These categories include:\n",
    "\n",
    "1. Distance-Based Methods:\n",
    "   - Distance-based methods measure the similarity or dissimilarity between data points and use a threshold to identify anomalies. Data points that are too far from others are considered anomalies.\n",
    "   - Examples include k-nearest neighbors (KNN), Local Outlier Factor (LOF), and Mahalanobis distance-based methods.\n",
    "\n",
    "2. Clustering-Based Methods:\n",
    "   - Clustering-based methods group data points into clusters, assuming that anomalies belong to small or isolated clusters or clusters with very few members.\n",
    "   - Popular algorithms include k-means clustering, DBSCAN (Density-Based Spatial Clustering of Applications with Noise), and hierarchical clustering.\n",
    "\n",
    "3. One-Class SVM (Support Vector Machines):\n",
    "   - One-Class SVM is a supervised learning technique that learns a boundary around the normal data and classifies data points outside this boundary as anomalies.\n",
    "   - It is particularly useful when labeled anomalies are scarce or unavailable.\n",
    "\n",
    "4. Neural Network-Based Methods:\n",
    "   - Deep learning approaches, including autoencoders and recurrent neural networks (RNNs), can be used for anomaly detection by training models to reconstruct input data and flagging data points with high reconstruction errors as anomalies.\n",
    "\n",
    "5. Ensemble Methods:\n",
    "   - Ensemble methods combine multiple anomaly detection algorithms to improve overall performance and reduce false positives.\n",
    "   - Techniques like bagging and boosting can be applied to anomaly detection.\n",
    "\n",
    "6. Time Series Anomaly Detection:\n",
    "   - These methods are specialized for detecting anomalies in time series data. They may involve techniques such as moving averages, exponential smoothing, or Seasonal Decomposition of Time Series (STL) in combination with other anomaly detection methods.\n",
    "\n",
    "7. Domain-Specific Methods:\n",
    "   - Some domains require specialized anomaly detection techniques tailored to their specific data and characteristics. For example, in cybersecurity, intrusion detection systems use custom approaches to detect network anomalies.\n"
   ]
  },
  {
   "cell_type": "markdown",
   "id": "251c4dcf-e766-4e3b-98ed-986c36f3ec44",
   "metadata": {},
   "source": [
    "Q5. What are the main assumptions made by distance-based anomaly detection methods?"
   ]
  },
  {
   "cell_type": "markdown",
   "id": "41e5042a-e970-46b4-8ede-68eaba243e27",
   "metadata": {},
   "source": [
    "Distance-based anomaly detection methods rely on several key assumptions about the data and the nature of anomalies. These assumptions are fundamental to how these methods identify anomalies based on the concept of distance or dissimilarity between data points. The main assumptions made by distance-based anomaly detection methods include:\n",
    "\n",
    "1. Distance Measure: These methods assume that a suitable distance or dissimilarity metric exists to quantify the similarity between data points. Common distance metrics include Euclidean distance, Mahalanobis distance, and cosine similarity.\n",
    "\n",
    "2. Normal Data Distribution: Distance-based methods often assume that normal data points are clustered tightly together in the feature space. In other words, normal data is expected to form a dense cluster, while anomalies are isolated or located far from this cluster.\n",
    "\n",
    "3. Outliers: Distance-based methods assume that anomalies are outliers, meaning they are located at the periphery of the data distribution and are significantly distant from the majority of data points.\n",
    "\n",
    "4. Fixed Threshold: Many distance-based anomaly detection methods use a fixed threshold value to determine what constitutes an anomaly. Data points beyond this threshold are flagged as anomalies. The choice of this threshold can be critical and is often application-specific.\n",
    "\n",
    "5. Metric Choice: The performance of distance-based methods can be sensitive to the choice of distance metric, and the suitability of a specific metric may vary depending on the data and the nature of anomalies.\n",
    "\n",
    "It's important to note that while distance-based methods can be effective for certain types of data and anomalies, they may not perform well when these assumptions are violated. For example, in high-dimensional spaces, distance-based methods may struggle due to the curse of dimensionality, and when the data is highly skewed or the density of normal data points varies across the feature space, alternative methods like density estimation or clustering-based approaches may be more appropriate.\n"
   ]
  },
  {
   "cell_type": "markdown",
   "id": "c932d27f-4d8e-49e5-8095-5df0f966f414",
   "metadata": {},
   "source": [
    "Q6. How does the LOF algorithm compute anomaly scores?"
   ]
  },
  {
   "cell_type": "markdown",
   "id": "e4b90696-296f-4599-afe1-0d9e842385c0",
   "metadata": {},
   "source": [
    "The Local Outlier Factor (LOF) algorithm is a popular density-based anomaly detection method that computes anomaly scores for data points based on their local density compared to the density of their neighbors. LOF assesses how isolated or \"outlying\" a data point is within its local neighborhood. Here's how the LOF algorithm computes anomaly scores:\n",
    "\n",
    "1. K-Nearest Neighbors (KNN): LOF starts by defining a parameter \"k,\" which represents the number of nearest neighbors to consider when evaluating the local density of a data point. The value of \"k\" is typically chosen by the user or through cross-validation.\n",
    "\n",
    "2. Local Reachability Density (LRD): For each data point, LOF calculates the local reachability density (LRD), which quantifies the density of that point's neighborhood relative to the density of its k-nearest neighbors. LRD is defined as follows:\n",
    "\n",
    "   LRD(p) = 1 / (Σ(reach-dist(p, o))/k), for all o in the k-nearest neighbors of p\n",
    "\n",
    "   - `p` is the data point for which LRD is being calculated.\n",
    "   - `reach-dist(p, o)` is the reachability distance between `p` and its neighbor `o`. The reachability distance is the maximum of the Euclidean distance between `p` and `o` and the core distance of `o`. The core distance of a data point measures the distance to its k-th nearest neighbor. In other words, it reflects how close a point is to its neighbors.\n",
    "   - The sum is taken over all the k-nearest neighbors of `p`.\n",
    "\n",
    "   LRD represents the inverse of the average reachability distance of `p` to its k-nearest neighbors. It captures the local density of data points in the vicinity of `p`.\n",
    "\n",
    "3. Local Outlier Factor (LOF): Finally, LOF is computed as the average ratio of the LRD of a data point to the LRD of its k-nearest neighbors. The LOF of a data point `p` is defined as follows:\n",
    "\n",
    "   LOF(p) = (Σ(LRD(o) / LRD(p)), for all o in the k-nearest neighbors of p) / k\n",
    "\n",
    "   - `p` is the data point for which LOF is being calculated.\n",
    "   - The sum is taken over all the k-nearest neighbors of `p`.\n",
    "   - LOF measures how much the LRD of `p` differs from the LRD of its neighbors. A LOF significantly greater than 1 indicates that `p` is more isolated or denser than its neighbors, which suggests it is an outlier.\n",
    "\n",
    "4. Anomaly Score: The LOF value is used as an anomaly score. Higher LOF values indicate that a data point is more likely to be an anomaly, as it is more isolated or less dense than its neighbors. The threshold for considering a data point as an anomaly can be set by the user based on the desired level of sensitivity."
   ]
  },
  {
   "cell_type": "markdown",
   "id": "53df2e7d-b3a8-4cb2-b0ed-4f47f8376167",
   "metadata": {},
   "source": [
    "Q7. What are the key parameters of the Isolation Forest algorithm?"
   ]
  },
  {
   "cell_type": "markdown",
   "id": "35465bb3-56f5-4e3b-9d28-22b15fef92e9",
   "metadata": {},
   "source": [
    "The Isolation Forest algorithm is an ensemble-based anomaly detection method that is based on the principles of decision trees. It isolates anomalies by exploiting the observation that anomalies are typically few in number and have attribute values that make them easy to separate from normal data points. The key parameters of the Isolation Forest algorithm include:\n",
    "\n",
    "1. Number of Trees (n_estimators): This parameter determines the number of individual isolation trees to create in the ensemble. A higher number of trees can provide better accuracy but also requires more computational resources. A common practice is to tune this parameter through cross-validation.\n",
    "\n",
    "2. Subsample Size (max_samples): It specifies the size of the random subsample of the dataset to be used when constructing each isolation tree. Setting it to a smaller value can make the algorithm faster but may result in less accurate anomaly detection. The recommended default value is often \"auto,\" which means the subsample size is set to the size of the input data.\n",
    "\n",
    "3. Maximum Tree Depth (max_depth): This parameter sets the maximum depth of each isolation tree. A deeper tree can capture more complex patterns in the data but may also increase the risk of overfitting. A shallow tree might not capture enough information to effectively isolate anomalies. It's important to strike a balance by tuning this parameter.\n",
    "\n",
    "4. Contamination: The contamination parameter specifies the expected proportion of anomalies in the dataset. It is used to set the threshold for classifying data points as anomalies. If you have prior knowledge or estimates about the proportion of anomalies in your data, you can set this parameter accordingly. If not, it can be estimated or set to a reasonable default value (e.g., 0.1 for 10% anomalies).\n",
    "\n",
    "5. Random Seed (random_state): This parameter allows you to set a random seed for reproducibility. By fixing the random seed, you can ensure that the results of the algorithm remain consistent across different runs.\n",
    "\n",
    "6. Bootstrap: Isolation Forest uses a random subsample of the data for each tree. The bootstrap parameter, if set to `True`, specifies that each tree should be constructed using a bootstrapped sample (sampling with replacement) from the original dataset. If set to `False`, it uses a non-bootstrapped sample.\n"
   ]
  },
  {
   "cell_type": "markdown",
   "id": "38feb495-6933-4fcf-8ff8-730cb84f68e5",
   "metadata": {},
   "source": [
    "Q8. If a data point has only 2 neighbours of the same class within a radius of 0.5, what is its anomaly score using KNN with K=10?"
   ]
  },
  {
   "cell_type": "markdown",
   "id": "50b05b12-148c-4820-bfb3-cd200cc2a95f",
   "metadata": {},
   "source": [
    "The ratio of the distances to the 10th nearest neighbor (d10) and the closest neighbor within a radius of 0.5 (d1):\n",
    "\n",
    "Anomaly Score = d10 / d1\n",
    "\n",
    "- The anomaly score indicates how isolated or far the data point is from its 10th nearest neighbor compared to its neighbors within a radius of 0.5.\n",
    "\n",
    "- A higher anomaly score indicates that the data point is more isolated or farther from its 10th nearest neighbor compared to its neighbors within a radius of 0.5. If this score is significantly greater than 1, it suggests that the data point is an anomaly."
   ]
  },
  {
   "cell_type": "markdown",
   "id": "b85649bf-12da-4ea5-bc14-a71578ddf0f5",
   "metadata": {},
   "source": [
    "Q9. Using the Isolation Forest algorithm with 100 trees and a dataset of 3000 data points, what is the anomaly score for a data point that has an average path length of 5.0 compared to the average path length of the trees?"
   ]
  },
  {
   "cell_type": "markdown",
   "id": "8e4a04d2-ff64-4d06-b326-65c9ab9fa3a4",
   "metadata": {},
   "source": [
    "Anomaly Score = 2^(- (average path length / (average path length of dataset)))\n",
    "\n"
   ]
  }
 ],
 "metadata": {
  "kernelspec": {
   "display_name": "Python 3 (ipykernel)",
   "language": "python",
   "name": "python3"
  },
  "language_info": {
   "codemirror_mode": {
    "name": "ipython",
    "version": 3
   },
   "file_extension": ".py",
   "mimetype": "text/x-python",
   "name": "python",
   "nbconvert_exporter": "python",
   "pygments_lexer": "ipython3",
   "version": "3.10.8"
  }
 },
 "nbformat": 4,
 "nbformat_minor": 5
}
